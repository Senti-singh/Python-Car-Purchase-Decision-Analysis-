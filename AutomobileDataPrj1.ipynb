{
 "cells": [
  {
   "cell_type": "code",
   "execution_count": 1,
   "id": "d6d7b5d3-e6e8-4cce-914a-e2d854c73f76",
   "metadata": {
    "tags": []
   },
   "outputs": [],
   "source": [
    "# Import Libraries\n",
    "\n",
    "import pandas as pd\n",
    "import numpy as np"
   ]
  },
  {
   "cell_type": "code",
   "execution_count": 2,
   "id": "fbb4ef27-0b47-412f-b5ad-eab41bfdae6b",
   "metadata": {
    "tags": []
   },
   "outputs": [],
   "source": [
    "# import Data from CSV File\n",
    "main_data = pd.read_csv(\"Automobile_data.csv\")"
   ]
  },
  {
   "cell_type": "code",
   "execution_count": 10,
   "id": "52f6378f-63f3-4149-97dd-04f2fae1e13c",
   "metadata": {
    "tags": []
   },
   "outputs": [
    {
     "data": {
      "text/plain": [
       "index               0\n",
       "company             0\n",
       "body-style          0\n",
       "wheel-base          0\n",
       "length              0\n",
       "engine-type         0\n",
       "num-of-cylinders    0\n",
       "horsepower          0\n",
       "average-mileage     0\n",
       "price               3\n",
       "dtype: int64"
      ]
     },
     "execution_count": 10,
     "metadata": {},
     "output_type": "execute_result"
    }
   ],
   "source": [
    "# Check for Null Values\n",
    "main_data.isnull().sum()"
   ]
  },
  {
   "cell_type": "code",
   "execution_count": null,
   "id": "79904e95-f1a9-4c11-9b6c-0cf744232455",
   "metadata": {},
   "outputs": [],
   "source": [
    "# Solve Some Questions"
   ]
  },
  {
   "cell_type": "markdown",
   "id": "d7bdf2e0-dd12-4a20-846b-11e4d0d1065d",
   "metadata": {},
   "source": [
    "## 1. what is the average price and average mileage for convertible cars"
   ]
  },
  {
   "cell_type": "code",
   "execution_count": 4,
   "id": "b1176b89-1127-4d18-b322-82c487eb3135",
   "metadata": {
    "tags": []
   },
   "outputs": [
    {
     "name": "stdout",
     "output_type": "stream",
     "text": [
      "average price for convertible cars is :  22341.0\n",
      "average mileage for convertible cars is : 19.67\n"
     ]
    }
   ],
   "source": [
    "sol1 = main_data[main_data[\"body-style\"]==\"convertible\"]\n",
    "avg = sol1[[\"average-mileage\",\"price\"]].mean()\n",
    "print(\"average price for convertible cars is : \",avg[\"price\"])\n",
    "print(\"average mileage for convertible cars is :\",round(avg[\"average-mileage\"],2))"
   ]
  },
  {
   "cell_type": "markdown",
   "id": "71aaaff9-4afa-4338-a21e-17a08690da63",
   "metadata": {
    "tags": []
   },
   "source": [
    "##  2) Sort cars by company and price in decending order"
   ]
  },
  {
   "cell_type": "code",
   "execution_count": 5,
   "id": "3c1990bf-cb92-43b8-bf1c-8519b1346bf1",
   "metadata": {
    "tags": []
   },
   "outputs": [
    {
     "data": {
      "text/html": [
       "<div>\n",
       "<style scoped>\n",
       "    .dataframe tbody tr th:only-of-type {\n",
       "        vertical-align: middle;\n",
       "    }\n",
       "\n",
       "    .dataframe tbody tr th {\n",
       "        vertical-align: top;\n",
       "    }\n",
       "\n",
       "    .dataframe thead th {\n",
       "        text-align: right;\n",
       "    }\n",
       "</style>\n",
       "<table border=\"1\" class=\"dataframe\">\n",
       "  <thead>\n",
       "    <tr style=\"text-align: right;\">\n",
       "      <th></th>\n",
       "      <th>index</th>\n",
       "      <th>company</th>\n",
       "      <th>body-style</th>\n",
       "      <th>wheel-base</th>\n",
       "      <th>length</th>\n",
       "      <th>engine-type</th>\n",
       "      <th>num-of-cylinders</th>\n",
       "      <th>horsepower</th>\n",
       "      <th>average-mileage</th>\n",
       "      <th>price</th>\n",
       "    </tr>\n",
       "  </thead>\n",
       "  <tbody>\n",
       "    <tr>\n",
       "      <th>60</th>\n",
       "      <td>88</td>\n",
       "      <td>volvo</td>\n",
       "      <td>wagon</td>\n",
       "      <td>104.3</td>\n",
       "      <td>188.8</td>\n",
       "      <td>ohc</td>\n",
       "      <td>four</td>\n",
       "      <td>114</td>\n",
       "      <td>23</td>\n",
       "      <td>13415.0</td>\n",
       "    </tr>\n",
       "    <tr>\n",
       "      <th>59</th>\n",
       "      <td>87</td>\n",
       "      <td>volvo</td>\n",
       "      <td>sedan</td>\n",
       "      <td>104.3</td>\n",
       "      <td>188.8</td>\n",
       "      <td>ohc</td>\n",
       "      <td>four</td>\n",
       "      <td>114</td>\n",
       "      <td>23</td>\n",
       "      <td>12940.0</td>\n",
       "    </tr>\n",
       "    <tr>\n",
       "      <th>58</th>\n",
       "      <td>86</td>\n",
       "      <td>volkswagen</td>\n",
       "      <td>sedan</td>\n",
       "      <td>97.3</td>\n",
       "      <td>171.7</td>\n",
       "      <td>ohc</td>\n",
       "      <td>four</td>\n",
       "      <td>100</td>\n",
       "      <td>26</td>\n",
       "      <td>9995.0</td>\n",
       "    </tr>\n",
       "    <tr>\n",
       "      <th>57</th>\n",
       "      <td>82</td>\n",
       "      <td>volkswagen</td>\n",
       "      <td>sedan</td>\n",
       "      <td>97.3</td>\n",
       "      <td>171.7</td>\n",
       "      <td>ohc</td>\n",
       "      <td>four</td>\n",
       "      <td>52</td>\n",
       "      <td>37</td>\n",
       "      <td>7995.0</td>\n",
       "    </tr>\n",
       "    <tr>\n",
       "      <th>56</th>\n",
       "      <td>81</td>\n",
       "      <td>volkswagen</td>\n",
       "      <td>sedan</td>\n",
       "      <td>97.3</td>\n",
       "      <td>171.7</td>\n",
       "      <td>ohc</td>\n",
       "      <td>four</td>\n",
       "      <td>85</td>\n",
       "      <td>27</td>\n",
       "      <td>7975.0</td>\n",
       "    </tr>\n",
       "    <tr>\n",
       "      <th>...</th>\n",
       "      <td>...</td>\n",
       "      <td>...</td>\n",
       "      <td>...</td>\n",
       "      <td>...</td>\n",
       "      <td>...</td>\n",
       "      <td>...</td>\n",
       "      <td>...</td>\n",
       "      <td>...</td>\n",
       "      <td>...</td>\n",
       "      <td>...</td>\n",
       "    </tr>\n",
       "    <tr>\n",
       "      <th>5</th>\n",
       "      <td>5</td>\n",
       "      <td>audi</td>\n",
       "      <td>sedan</td>\n",
       "      <td>99.8</td>\n",
       "      <td>177.3</td>\n",
       "      <td>ohc</td>\n",
       "      <td>five</td>\n",
       "      <td>110</td>\n",
       "      <td>19</td>\n",
       "      <td>15250.0</td>\n",
       "    </tr>\n",
       "    <tr>\n",
       "      <th>3</th>\n",
       "      <td>3</td>\n",
       "      <td>audi</td>\n",
       "      <td>sedan</td>\n",
       "      <td>99.8</td>\n",
       "      <td>176.6</td>\n",
       "      <td>ohc</td>\n",
       "      <td>four</td>\n",
       "      <td>102</td>\n",
       "      <td>24</td>\n",
       "      <td>13950.0</td>\n",
       "    </tr>\n",
       "    <tr>\n",
       "      <th>1</th>\n",
       "      <td>1</td>\n",
       "      <td>alfa-romero</td>\n",
       "      <td>convertible</td>\n",
       "      <td>88.6</td>\n",
       "      <td>168.8</td>\n",
       "      <td>dohc</td>\n",
       "      <td>four</td>\n",
       "      <td>111</td>\n",
       "      <td>21</td>\n",
       "      <td>16500.0</td>\n",
       "    </tr>\n",
       "    <tr>\n",
       "      <th>2</th>\n",
       "      <td>2</td>\n",
       "      <td>alfa-romero</td>\n",
       "      <td>hatchback</td>\n",
       "      <td>94.5</td>\n",
       "      <td>171.2</td>\n",
       "      <td>ohcv</td>\n",
       "      <td>six</td>\n",
       "      <td>154</td>\n",
       "      <td>19</td>\n",
       "      <td>16500.0</td>\n",
       "    </tr>\n",
       "    <tr>\n",
       "      <th>0</th>\n",
       "      <td>0</td>\n",
       "      <td>alfa-romero</td>\n",
       "      <td>convertible</td>\n",
       "      <td>88.6</td>\n",
       "      <td>168.8</td>\n",
       "      <td>dohc</td>\n",
       "      <td>four</td>\n",
       "      <td>111</td>\n",
       "      <td>21</td>\n",
       "      <td>13495.0</td>\n",
       "    </tr>\n",
       "  </tbody>\n",
       "</table>\n",
       "<p>61 rows × 10 columns</p>\n",
       "</div>"
      ],
      "text/plain": [
       "    index      company   body-style  wheel-base  length engine-type  \\\n",
       "60     88        volvo        wagon       104.3   188.8         ohc   \n",
       "59     87        volvo        sedan       104.3   188.8         ohc   \n",
       "58     86   volkswagen        sedan        97.3   171.7         ohc   \n",
       "57     82   volkswagen        sedan        97.3   171.7         ohc   \n",
       "56     81   volkswagen        sedan        97.3   171.7         ohc   \n",
       "..    ...          ...          ...         ...     ...         ...   \n",
       "5       5         audi        sedan        99.8   177.3         ohc   \n",
       "3       3         audi        sedan        99.8   176.6         ohc   \n",
       "1       1  alfa-romero  convertible        88.6   168.8        dohc   \n",
       "2       2  alfa-romero    hatchback        94.5   171.2        ohcv   \n",
       "0       0  alfa-romero  convertible        88.6   168.8        dohc   \n",
       "\n",
       "   num-of-cylinders  horsepower  average-mileage    price  \n",
       "60             four         114               23  13415.0  \n",
       "59             four         114               23  12940.0  \n",
       "58             four         100               26   9995.0  \n",
       "57             four          52               37   7995.0  \n",
       "56             four          85               27   7975.0  \n",
       "..              ...         ...              ...      ...  \n",
       "5              five         110               19  15250.0  \n",
       "3              four         102               24  13950.0  \n",
       "1              four         111               21  16500.0  \n",
       "2               six         154               19  16500.0  \n",
       "0              four         111               21  13495.0  \n",
       "\n",
       "[61 rows x 10 columns]"
      ]
     },
     "execution_count": 5,
     "metadata": {},
     "output_type": "execute_result"
    }
   ],
   "source": [
    "main_data.sort_values([\"company\",\"price\"],ascending=False)"
   ]
  },
  {
   "cell_type": "markdown",
   "id": "c4192704-1999-4b46-9734-4feafa7e7c9f",
   "metadata": {
    "tags": []
   },
   "source": [
    "## 3. Save data for 'Toyota' separately"
   ]
  },
  {
   "cell_type": "code",
   "execution_count": 6,
   "id": "c4dabc0f-ffeb-4aa2-b398-2eeff04edeb7",
   "metadata": {
    "tags": []
   },
   "outputs": [],
   "source": [
    "toyota = main_data[main_data[\"company\"]==\"toyota\"].to_csv(\"toyota.csv\",index=False)"
   ]
  },
  {
   "cell_type": "markdown",
   "id": "a439285a-2d01-4372-933a-4867cbc4ec66",
   "metadata": {},
   "source": [
    "## 4) which company is producing most expensive car?"
   ]
  },
  {
   "cell_type": "code",
   "execution_count": 7,
   "id": "7692a09a-e6e8-4c7b-9854-04f10a5d2589",
   "metadata": {
    "tags": []
   },
   "outputs": [
    {
     "name": "stdout",
     "output_type": "stream",
     "text": [
      "Most Expencive car is :  mercedes-benz\n"
     ]
    }
   ],
   "source": [
    "exp_car = main_data[main_data[\"price\"]==main_data[\"price\"].max()].iloc[0][\"company\"]\n",
    "print(\"Most Expencive car is : \",exp_car)"
   ]
  },
  {
   "cell_type": "markdown",
   "id": "9ee99fbb-72bd-4069-a549-03931e8d3cf9",
   "metadata": {},
   "source": [
    "## 5. Name the cars on basis of maximum length, highest wheelbase, maximum horsepower"
   ]
  },
  {
   "cell_type": "code",
   "execution_count": 8,
   "id": "8c684de2-b46a-4176-b8bf-72c4c64ea9bd",
   "metadata": {
    "tags": []
   },
   "outputs": [
    {
     "name": "stdout",
     "output_type": "stream",
     "text": [
      "Car with Maximum Length is: mercedes-benz\n",
      "Car with Highest Wheelbase is: mercedes-benz\n",
      "Car with Maximum Horsepower is: porsche\n"
     ]
    }
   ],
   "source": [
    "max_len = main_data[main_data[\"length\"] == main_data[\"length\"].max()].iloc[0][\"company\"]\n",
    "high_wheel = main_data[main_data[\"wheel-base\"] == main_data[\"wheel-base\"].max()].iloc[0][\"company\"]\n",
    "max_hor = main_data[main_data[\"horsepower\"]==main_data[\"horsepower\"].max()].iloc[0][\"company\"]\n",
    "print(\"Car with Maximum Length is:\", max_len)\n",
    "print(\"Car with Highest Wheelbase is:\", high_wheel)\n",
    "print(\"Car with Maximum Horsepower is:\", max_hor)"
   ]
  },
  {
   "cell_type": "markdown",
   "id": "5e004933-e89d-4877-aa72-3393fff2b360",
   "metadata": {
    "tags": []
   },
   "source": [
    "## 6) company wise average price of cars and order them in decending order"
   ]
  },
  {
   "cell_type": "code",
   "execution_count": 9,
   "id": "5d292a44-c4c2-40a4-a10b-b4117098fa02",
   "metadata": {},
   "outputs": [
    {
     "data": {
      "text/plain": [
       "company\n",
       "porsche          35528.00\n",
       "mercedes-benz    35040.00\n",
       "jaguar           34600.00\n",
       "bmw              27213.33\n",
       "audi             16392.50\n",
       "alfa-romero      15498.33\n",
       "volvo            13177.50\n",
       "honda            10195.00\n",
       "mazda             9654.80\n",
       "volkswagen        8435.00\n",
       "nissan            8289.00\n",
       "toyota            8216.86\n",
       "isuzu             6785.00\n",
       "mitsubishi        6689.00\n",
       "dodge             6303.00\n",
       "chevrolet         6007.00\n",
       "Name: price, dtype: float64"
      ]
     },
     "execution_count": 9,
     "metadata": {},
     "output_type": "execute_result"
    }
   ],
   "source": [
    "avg_price = round(main_data.groupby(\"company\")[\"price\"].mean().sort_values(ascending=False),2)\n",
    "avg_price"
   ]
  },
  {
   "cell_type": "markdown",
   "id": "43579cfd-2372-48cc-85e0-d55b5fddd4cf",
   "metadata": {
    "tags": []
   },
   "source": [
    "## 7. create a column named: \"decision\", If wheel-base is less than 100 and length is less than 175 then \"don't buy\" else \"buy\""
   ]
  },
  {
   "cell_type": "code",
   "execution_count": 10,
   "id": "88fac689-51e8-44c2-b2e3-ef5bb3f106d5",
   "metadata": {
    "tags": []
   },
   "outputs": [
    {
     "data": {
      "text/html": [
       "<div>\n",
       "<style scoped>\n",
       "    .dataframe tbody tr th:only-of-type {\n",
       "        vertical-align: middle;\n",
       "    }\n",
       "\n",
       "    .dataframe tbody tr th {\n",
       "        vertical-align: top;\n",
       "    }\n",
       "\n",
       "    .dataframe thead th {\n",
       "        text-align: right;\n",
       "    }\n",
       "</style>\n",
       "<table border=\"1\" class=\"dataframe\">\n",
       "  <thead>\n",
       "    <tr style=\"text-align: right;\">\n",
       "      <th></th>\n",
       "      <th>index</th>\n",
       "      <th>company</th>\n",
       "      <th>body-style</th>\n",
       "      <th>wheel-base</th>\n",
       "      <th>length</th>\n",
       "      <th>engine-type</th>\n",
       "      <th>num-of-cylinders</th>\n",
       "      <th>horsepower</th>\n",
       "      <th>average-mileage</th>\n",
       "      <th>price</th>\n",
       "      <th>decision</th>\n",
       "    </tr>\n",
       "  </thead>\n",
       "  <tbody>\n",
       "    <tr>\n",
       "      <th>0</th>\n",
       "      <td>0</td>\n",
       "      <td>alfa-romero</td>\n",
       "      <td>convertible</td>\n",
       "      <td>88.6</td>\n",
       "      <td>168.8</td>\n",
       "      <td>dohc</td>\n",
       "      <td>four</td>\n",
       "      <td>111</td>\n",
       "      <td>21</td>\n",
       "      <td>13495.0</td>\n",
       "      <td>dont buy</td>\n",
       "    </tr>\n",
       "    <tr>\n",
       "      <th>1</th>\n",
       "      <td>1</td>\n",
       "      <td>alfa-romero</td>\n",
       "      <td>convertible</td>\n",
       "      <td>88.6</td>\n",
       "      <td>168.8</td>\n",
       "      <td>dohc</td>\n",
       "      <td>four</td>\n",
       "      <td>111</td>\n",
       "      <td>21</td>\n",
       "      <td>16500.0</td>\n",
       "      <td>dont buy</td>\n",
       "    </tr>\n",
       "    <tr>\n",
       "      <th>2</th>\n",
       "      <td>2</td>\n",
       "      <td>alfa-romero</td>\n",
       "      <td>hatchback</td>\n",
       "      <td>94.5</td>\n",
       "      <td>171.2</td>\n",
       "      <td>ohcv</td>\n",
       "      <td>six</td>\n",
       "      <td>154</td>\n",
       "      <td>19</td>\n",
       "      <td>16500.0</td>\n",
       "      <td>dont buy</td>\n",
       "    </tr>\n",
       "    <tr>\n",
       "      <th>3</th>\n",
       "      <td>3</td>\n",
       "      <td>audi</td>\n",
       "      <td>sedan</td>\n",
       "      <td>99.8</td>\n",
       "      <td>176.6</td>\n",
       "      <td>ohc</td>\n",
       "      <td>four</td>\n",
       "      <td>102</td>\n",
       "      <td>24</td>\n",
       "      <td>13950.0</td>\n",
       "      <td>buy</td>\n",
       "    </tr>\n",
       "    <tr>\n",
       "      <th>4</th>\n",
       "      <td>4</td>\n",
       "      <td>audi</td>\n",
       "      <td>sedan</td>\n",
       "      <td>99.4</td>\n",
       "      <td>176.6</td>\n",
       "      <td>ohc</td>\n",
       "      <td>five</td>\n",
       "      <td>115</td>\n",
       "      <td>18</td>\n",
       "      <td>17450.0</td>\n",
       "      <td>buy</td>\n",
       "    </tr>\n",
       "    <tr>\n",
       "      <th>...</th>\n",
       "      <td>...</td>\n",
       "      <td>...</td>\n",
       "      <td>...</td>\n",
       "      <td>...</td>\n",
       "      <td>...</td>\n",
       "      <td>...</td>\n",
       "      <td>...</td>\n",
       "      <td>...</td>\n",
       "      <td>...</td>\n",
       "      <td>...</td>\n",
       "      <td>...</td>\n",
       "    </tr>\n",
       "    <tr>\n",
       "      <th>56</th>\n",
       "      <td>81</td>\n",
       "      <td>volkswagen</td>\n",
       "      <td>sedan</td>\n",
       "      <td>97.3</td>\n",
       "      <td>171.7</td>\n",
       "      <td>ohc</td>\n",
       "      <td>four</td>\n",
       "      <td>85</td>\n",
       "      <td>27</td>\n",
       "      <td>7975.0</td>\n",
       "      <td>dont buy</td>\n",
       "    </tr>\n",
       "    <tr>\n",
       "      <th>57</th>\n",
       "      <td>82</td>\n",
       "      <td>volkswagen</td>\n",
       "      <td>sedan</td>\n",
       "      <td>97.3</td>\n",
       "      <td>171.7</td>\n",
       "      <td>ohc</td>\n",
       "      <td>four</td>\n",
       "      <td>52</td>\n",
       "      <td>37</td>\n",
       "      <td>7995.0</td>\n",
       "      <td>dont buy</td>\n",
       "    </tr>\n",
       "    <tr>\n",
       "      <th>58</th>\n",
       "      <td>86</td>\n",
       "      <td>volkswagen</td>\n",
       "      <td>sedan</td>\n",
       "      <td>97.3</td>\n",
       "      <td>171.7</td>\n",
       "      <td>ohc</td>\n",
       "      <td>four</td>\n",
       "      <td>100</td>\n",
       "      <td>26</td>\n",
       "      <td>9995.0</td>\n",
       "      <td>dont buy</td>\n",
       "    </tr>\n",
       "    <tr>\n",
       "      <th>59</th>\n",
       "      <td>87</td>\n",
       "      <td>volvo</td>\n",
       "      <td>sedan</td>\n",
       "      <td>104.3</td>\n",
       "      <td>188.8</td>\n",
       "      <td>ohc</td>\n",
       "      <td>four</td>\n",
       "      <td>114</td>\n",
       "      <td>23</td>\n",
       "      <td>12940.0</td>\n",
       "      <td>buy</td>\n",
       "    </tr>\n",
       "    <tr>\n",
       "      <th>60</th>\n",
       "      <td>88</td>\n",
       "      <td>volvo</td>\n",
       "      <td>wagon</td>\n",
       "      <td>104.3</td>\n",
       "      <td>188.8</td>\n",
       "      <td>ohc</td>\n",
       "      <td>four</td>\n",
       "      <td>114</td>\n",
       "      <td>23</td>\n",
       "      <td>13415.0</td>\n",
       "      <td>buy</td>\n",
       "    </tr>\n",
       "  </tbody>\n",
       "</table>\n",
       "<p>61 rows × 11 columns</p>\n",
       "</div>"
      ],
      "text/plain": [
       "    index      company   body-style  wheel-base  length engine-type  \\\n",
       "0       0  alfa-romero  convertible        88.6   168.8        dohc   \n",
       "1       1  alfa-romero  convertible        88.6   168.8        dohc   \n",
       "2       2  alfa-romero    hatchback        94.5   171.2        ohcv   \n",
       "3       3         audi        sedan        99.8   176.6         ohc   \n",
       "4       4         audi        sedan        99.4   176.6         ohc   \n",
       "..    ...          ...          ...         ...     ...         ...   \n",
       "56     81   volkswagen        sedan        97.3   171.7         ohc   \n",
       "57     82   volkswagen        sedan        97.3   171.7         ohc   \n",
       "58     86   volkswagen        sedan        97.3   171.7         ohc   \n",
       "59     87        volvo        sedan       104.3   188.8         ohc   \n",
       "60     88        volvo        wagon       104.3   188.8         ohc   \n",
       "\n",
       "   num-of-cylinders  horsepower  average-mileage    price  decision  \n",
       "0              four         111               21  13495.0  dont buy  \n",
       "1              four         111               21  16500.0  dont buy  \n",
       "2               six         154               19  16500.0  dont buy  \n",
       "3              four         102               24  13950.0       buy  \n",
       "4              five         115               18  17450.0       buy  \n",
       "..              ...         ...              ...      ...       ...  \n",
       "56             four          85               27   7975.0  dont buy  \n",
       "57             four          52               37   7995.0  dont buy  \n",
       "58             four         100               26   9995.0  dont buy  \n",
       "59             four         114               23  12940.0       buy  \n",
       "60             four         114               23  13415.0       buy  \n",
       "\n",
       "[61 rows x 11 columns]"
      ]
     },
     "execution_count": 10,
     "metadata": {},
     "output_type": "execute_result"
    }
   ],
   "source": [
    "c = main_data[\"decision\"] = main_data.apply(lambda main_data:\"dont buy\" if main_data[\"wheel-base\"]<100 and main_data[\"length\"]<175 else \"buy\",axis=1)\n",
    "main_data"
   ]
  },
  {
   "cell_type": "markdown",
   "id": "0b2f92b3-fa38-447a-befa-16bf42ada2ac",
   "metadata": {
    "tags": []
   },
   "source": [
    "## 8. Select only cars whose decision is \"buy\"; find average price based on company of car"
   ]
  },
  {
   "cell_type": "code",
   "execution_count": 11,
   "id": "733a3025-6eea-4827-9db2-b36f11a7a817",
   "metadata": {},
   "outputs": [
    {
     "data": {
      "text/plain": [
       "company\n",
       "audi             16392.50\n",
       "bmw              27213.33\n",
       "honda            12945.00\n",
       "jaguar           34600.00\n",
       "mazda            18344.00\n",
       "mercedes-benz    35040.00\n",
       "nissan           13499.00\n",
       "porsche               NaN\n",
       "toyota           15750.00\n",
       "volvo            13177.50\n",
       "Name: price, dtype: float64"
      ]
     },
     "execution_count": 11,
     "metadata": {},
     "output_type": "execute_result"
    }
   ],
   "source": [
    "sol8 = round(main_data[main_data[\"decision\"]==\"buy\"].groupby(\"company\")[\"price\"].mean(),2)\n",
    "sol8"
   ]
  },
  {
   "cell_type": "code",
   "execution_count": null,
   "id": "2dd9cba9-d684-4b87-8c2f-ed80f963700b",
   "metadata": {},
   "outputs": [],
   "source": []
  }
 ],
 "metadata": {
  "kernelspec": {
   "display_name": "Python 3 (ipykernel)",
   "language": "python",
   "name": "python3"
  },
  "language_info": {
   "codemirror_mode": {
    "name": "ipython",
    "version": 3
   },
   "file_extension": ".py",
   "mimetype": "text/x-python",
   "name": "python",
   "nbconvert_exporter": "python",
   "pygments_lexer": "ipython3",
   "version": "3.11.4"
  }
 },
 "nbformat": 4,
 "nbformat_minor": 5
}
